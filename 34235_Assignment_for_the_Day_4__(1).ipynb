{
 "cells": [
  {
   "cell_type": "markdown",
   "metadata": {},
   "source": [
    "# 1. Write down a program in Python for Opening a File and Writing \" I Love LetsUpgrade\"  And close it, and read it back again, and then append some data to it and close it "
   ]
  },
  {
   "cell_type": "code",
   "execution_count": 28,
   "metadata": {},
   "outputs": [],
   "source": [
    "abc = open(\"File.txt\",'w')\n",
    "abc.write(\"I Love LetsUpgrade.\")\n",
    "abc.close()"
   ]
  },
  {
   "cell_type": "code",
   "execution_count": 29,
   "metadata": {},
   "outputs": [
    {
     "name": "stdout",
     "output_type": "stream",
     "text": [
      "\n",
      "I Love LetsUpgrade.You'll love it too.\n"
     ]
    }
   ],
   "source": [
    "abc = open(\"File.txt\",'a+')\n",
    "print(abc.read())\n",
    "abc.write(\"You'll love it too.\")\n",
    "abc.seek(0)\n",
    "print(abc.read())\n",
    "abc.close()"
   ]
  },
  {
   "cell_type": "markdown",
   "metadata": {},
   "source": [
    "# 2. Write a function which can return a Factorial of any numbers as INT, given in the argument"
   ]
  },
  {
   "cell_type": "code",
   "execution_count": 1,
   "metadata": {},
   "outputs": [],
   "source": [
    "# fact(3)"
   ]
  },
  {
   "cell_type": "code",
   "execution_count": 3,
   "metadata": {},
   "outputs": [],
   "source": [
    "# 6"
   ]
  },
  {
   "cell_type": "code",
   "execution_count": 30,
   "metadata": {},
   "outputs": [
    {
     "name": "stdout",
     "output_type": "stream",
     "text": [
      "enter number to calculate factorial: 5\n",
      "120\n"
     ]
    }
   ],
   "source": [
    "x = int(input(\"enter number to calculate factorial: \"))\n",
    "\n",
    "fac = 1\n",
    "for i in range(1,x+1):\n",
    "    fac *= i\n",
    "print(fac)"
   ]
  },
  {
   "cell_type": "code",
   "execution_count": null,
   "metadata": {},
   "outputs": [],
   "source": []
  }
 ],
 "metadata": {
  "kernelspec": {
   "display_name": "Python 3",
   "language": "python",
   "name": "python3"
  },
  "language_info": {
   "codemirror_mode": {
    "name": "ipython",
    "version": 3
   },
   "file_extension": ".py",
   "mimetype": "text/x-python",
   "name": "python",
   "nbconvert_exporter": "python",
   "pygments_lexer": "ipython3",
   "version": "3.8.5"
  }
 },
 "nbformat": 4,
 "nbformat_minor": 2
}
